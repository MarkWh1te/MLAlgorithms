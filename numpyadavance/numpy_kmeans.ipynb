{
 "cells": [
  {
   "cell_type": "code",
   "execution_count": 76,
   "metadata": {
    "collapsed": false
   },
   "outputs": [],
   "source": [
    "import numpy as np\n",
    "from scipy.spatial import distance\n",
    "np.random.seed(73)"
   ]
  },
  {
   "cell_type": "code",
   "execution_count": 91,
   "metadata": {
    "collapsed": false
   },
   "outputs": [
    {
     "data": {
      "text/plain": [
       "array([[ 79.,  40.,  89.],\n",
       "       [  5.,  33.,  44.],\n",
       "       [ 78.,  22.,  49.]])"
      ]
     },
     "execution_count": 91,
     "metadata": {},
     "output_type": "execute_result"
    }
   ],
   "source": [
    "def meanCentroids(data,clusters):\n",
    "    \"\"\"\n",
    "        input : data and where data belongs(clusters)\n",
    "        output : mean centroid of data clusters \n",
    "    \"\"\"\n",
    "    k = np.max(clusters) + 1\n",
    "    results = np.zeros(shape=(k,data.shape[1]),dtype=np.float64)\n",
    "    for i in range(k):\n",
    "        results[i] = np.mean(data[clusters==i],axis=0)\n",
    "    return results\n",
    "# test case\n",
    "data = np.array([[12, 10, 87],\n",
    "                 [ 2, 12, 33],\n",
    "                 [68, 31, 32],\n",
    "                 [88, 13, 66],\n",
    "                 [79, 40, 89],\n",
    "                 [ 1, 77, 12]])\n",
    "meanCentroids(data,np.array([1, 1, 2, 2, 0, 1]))"
   ]
  },
  {
   "cell_type": "code",
   "execution_count": 165,
   "metadata": {
    "collapsed": false
   },
   "outputs": [
    {
     "name": "stdout",
     "output_type": "stream",
     "text": [
      "[[ 1 77 12]\n",
      " [ 2 12 33]\n",
      " [68 31 32]]\n"
     ]
    },
    {
     "data": {
      "text/plain": [
       "(array([1, 1, 2, 2, 2, 0]), array([[  1.        ,  77.        ,  12.        ],\n",
       "        [  7.        ,  11.        ,  60.        ],\n",
       "        [ 78.33333333,  28.        ,  62.33333333]]))"
      ]
     },
     "execution_count": 165,
     "metadata": {},
     "output_type": "execute_result"
    }
   ],
   "source": [
    "np.random.seed(199)\n",
    "def kmeans(data, k, steps=20):\n",
    "    centroids = data[np.random.choice(np.arange(len(data)), k, False)]\n",
    "    # two different way init array\n",
    "#     centroids =  data[np.random.randint(len(data),size=k)]\n",
    "    print(centroids)\n",
    "    for i in range(steps):\n",
    "        distances  = distance.cdist(centroids,data,'sqeuclidean')\n",
    "        clusters = np.argmin(distances,axis=0)\n",
    "#        print(distances.shape,i,clusters.shape)\n",
    "#         print(clusters,i)\n",
    "        new_centroids = meanCentroids(data,clusters)\n",
    "        centroids = new_centroids\n",
    "    return clusters,centroids\n",
    "data = np.array([[12, 10, 87],\n",
    "                 [ 2, 12, 33],\n",
    "                 [68, 31, 32],\n",
    "                 [88, 13, 66],\n",
    "                 [79, 40, 89],\n",
    "                 [ 1, 77, 12]])\n",
    "kmeans(data,k=3)"
   ]
  }
 ],
 "metadata": {
  "kernelspec": {
   "display_name": "Python 3",
   "language": "python",
   "name": "python3"
  },
  "language_info": {
   "codemirror_mode": {
    "name": "ipython",
    "version": 3
   },
   "file_extension": ".py",
   "mimetype": "text/x-python",
   "name": "python",
   "nbconvert_exporter": "python",
   "pygments_lexer": "ipython3",
   "version": "3.6.0"
  }
 },
 "nbformat": 4,
 "nbformat_minor": 2
}
